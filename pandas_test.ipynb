{
 "cells": [
  {
   "cell_type": "code",
   "execution_count": 7,
   "id": "06f66145",
   "metadata": {},
   "outputs": [],
   "source": [
    "import pandas as pd"
   ]
  },
  {
   "cell_type": "code",
   "execution_count": 3,
   "id": "b4d84dd0",
   "metadata": {},
   "outputs": [
    {
     "name": "stdout",
     "output_type": "stream",
     "text": [
      "  Signal Name Direction      Target  Signal Value\n",
      "0   VehSpeed1        Tx  Component1          10.4\n",
      "1   VehSpeed2        Tx  Component1          10.3\n",
      "2   VehSpeed3        Rx  Component1          12.0\n",
      "3   VehSpeed4        Tx  Component1          13.1\n",
      "4   VehSpeed5        Tx  Component2           9.4\n",
      "5   VehSpeed6        Tx  Component2           8.4\n",
      "6   VehSpeed7        Rx  Component2           3.9\n",
      "7   VehSpeed8        Tx  Component2           7.1\n",
      "8   VehSpeed9        Tx  Component2           7.5\n",
      "9  VehSpeed10        Tx  Component2           4.3\n"
     ]
    }
   ],
   "source": [
    "data = pd.read_csv(\"Data_example.csv\")\n",
    "\n",
    "print(data)"
   ]
  },
  {
   "cell_type": "code",
   "execution_count": 4,
   "id": "39ff292c",
   "metadata": {},
   "outputs": [
    {
     "name": "stdout",
     "output_type": "stream",
     "text": [
      "  Signal Name  Signal Value      Target\n",
      "0   VehSpeed1          10.4  Component1\n",
      "1   VehSpeed2          10.3  Component1\n",
      "2   VehSpeed3          12.0  Component1\n",
      "3   VehSpeed4          13.1  Component1\n",
      "4   VehSpeed5           9.4  Component2\n",
      "5   VehSpeed6           8.4  Component2\n",
      "6   VehSpeed7           3.9  Component2\n",
      "7   VehSpeed8           7.1  Component2\n",
      "8   VehSpeed9           7.5  Component2\n",
      "9  VehSpeed10           4.3  Component2\n"
     ]
    }
   ],
   "source": [
    "selected_data = pd.DataFrame(data, columns = ['Signal Name', 'Signal Value', 'Target'])\n",
    "\n",
    "print(selected_data)"
   ]
  },
  {
   "cell_type": "code",
   "execution_count": 5,
   "id": "2885d6cc",
   "metadata": {},
   "outputs": [],
   "source": [
    "selected_data.to_csv(\"./modify.csv\")"
   ]
  },
  {
   "cell_type": "code",
   "execution_count": 6,
   "id": "44e965f5",
   "metadata": {},
   "outputs": [
    {
     "name": "stdout",
     "output_type": "stream",
     "text": [
      " C 드라이브의 볼륨: 오후반_OS\n",
      " 볼륨 일련 번호: E808-E5FC\n",
      "\n",
      " C:\\Users\\user2\\python_works\\PythonWorkshop-1 디렉터리\n",
      "\n",
      "2021-10-19  오후 03:55    <DIR>          .\n",
      "2021-10-19  오후 03:55    <DIR>          ..\n",
      "2021-09-17  오후 05:46             1,928 .gitignore\n",
      "2021-10-19  오후 03:33    <DIR>          .ipynb_checkpoints\n",
      "2021-09-23  오후 05:43            14,823 Array.ipynb\n",
      "2021-09-28  오후 07:33            50,831 Class.ipynb\n",
      "2021-09-24  오후 07:01                37 colors\n",
      "2021-09-23  오후 08:06             8,476 ControlStatement.ipynb\n",
      "2021-09-23  오후 04:18             4,087 DataType.ipynb\n",
      "2021-10-19  오후 03:48               337 Data_example.csv\n",
      "2021-10-07  오후 04:21             7,989 email_process.ipynb\n",
      "2021-09-27  오후 09:16             1,621 exception_test.ipynb\n",
      "2021-09-24  오후 07:19            29,669 FileIO.ipynb\n",
      "2021-09-24  오후 05:53            15,511 Function(Method).ipynb\n",
      "2021-10-07  오후 07:21            15,046 kakao_email_order_test.ipynb\n",
      "2021-10-01  오후 08:43             9,880 kakao_friends_msg_api.ipynb\n",
      "2021-10-01  오후 06:00            15,980 kakao_msg_api.ipynb\n",
      "2021-10-12  오후 05:09    <DIR>          linux_results\n",
      "2021-10-19  오후 03:55               319 modify.csv\n",
      "2021-10-12  오후 05:11            11,383 multi_task_control.ipynb\n",
      "2021-10-11  오후 09:47             2,382 ode.ipynb\n",
      "2021-10-11  오후 09:08            84,057 ode.txt\n",
      "2021-09-28  오후 07:53             2,382 operator_overload.ipynb\n",
      "2021-10-05  오후 09:49           402,051 order_test.ipynb\n",
      "2021-10-06  오후 04:58            22,179 pptx_control.ipynb\n",
      "2021-10-08  오후 07:10            45,132 python_crawl_server.ipynb\n",
      "2021-10-11  오후 06:10           285,236 python_mysql.ipynb\n",
      "2021-10-05  오후 05:11             5,468 python_response.ipynb\n",
      "2021-09-17  오후 07:52            19,755 python_taste.ipynb\n",
      "2021-09-17  오후 05:46                51 README.md\n",
      "2021-09-17  오후 07:05            27,952 request_success.jpg\n",
      "2021-10-11  오후 03:44    <DIR>          res\n",
      "2021-10-08  오후 05:08            14,938 selenium_crawling.ipynb\n",
      "2021-09-24  오후 07:14                47 test\n",
      "2021-10-06  오후 04:05            28,310 test.pptx\n",
      "2021-09-24  오후 06:10                83 test.txt\n",
      "2021-10-12  오후 07:45               576 Untitled.ipynb\n",
      "2021-10-19  오후 03:53             2,634 Untitled1.ipynb\n",
      "2021-10-06  오후 04:15            29,290 글자쓰기.pptx\n",
      "2021-10-06  오후 03:59            36,383 모든슬라이드추가.pptx\n",
      "2021-10-06  오후 04:56            29,409 이거시표다.pptx\n",
      "2021-10-06  오후 04:43            55,960 이미지.pptx\n",
      "              37개 파일           1,282,192 바이트\n",
      "               5개 디렉터리  147,048,128,512 바이트 남음\n"
     ]
    }
   ],
   "source": [
    "!dir"
   ]
  },
  {
   "cell_type": "code",
   "execution_count": null,
   "id": "2b728a40",
   "metadata": {},
   "outputs": [],
   "source": []
  },
  {
   "cell_type": "code",
   "execution_count": 3,
   "id": "da04e2fc",
   "metadata": {},
   "outputs": [],
   "source": [
    "import pymysql\n",
    "import datetime"
   ]
  },
  {
   "cell_type": "code",
   "execution_count": 12,
   "id": "61f17538",
   "metadata": {},
   "outputs": [
    {
     "name": "stdout",
     "output_type": "stream",
     "text": [
      "start:  2021-10-19 16:04:09\n"
     ]
    }
   ],
   "source": [
    "print('start: ', str(datetime.datetime.now())[:19])"
   ]
  },
  {
   "cell_type": "code",
   "execution_count": 1,
   "id": "aa892950",
   "metadata": {},
   "outputs": [],
   "source": [
    "import pickle\n",
    "\n",
    "MYSQL_USER_DATA_SAVED_FILE = \"res/mysql/userinfo\"\n",
    "\n",
    "f = open(MYSQL_USER_DATA_SAVED_FILE, 'rb')\n",
    "mysql_user_info = pickle.load(f)\n",
    "f.close()"
   ]
  },
  {
   "cell_type": "code",
   "execution_count": 17,
   "id": "ceee3529",
   "metadata": {},
   "outputs": [
    {
     "name": "stdout",
     "output_type": "stream",
     "text": [
      "<pymysql.connections.Connection object at 0x000002CEB93274F0>\n"
     ]
    }
   ],
   "source": [
    "db = pymysql.connect(\n",
    "    # localhost와 같은 아이피 주소임\n",
    "    host = '127.0.0.1',\n",
    "    # MySQL의 포트 번호\n",
    "    port = 3306,\n",
    "    # 아뒤\n",
    "    user = mysql_user_info['user_id'],\n",
    "    # 비번\n",
    "    passwd = mysql_user_info['password'],\n",
    "    # 사용하려는 스키마\n",
    "    db = 'jpa_db'\n",
    ")\n",
    "\n",
    "print(db)"
   ]
  },
  {
   "cell_type": "code",
   "execution_count": 18,
   "id": "646bfdb2",
   "metadata": {},
   "outputs": [
    {
     "name": "stdout",
     "output_type": "stream",
     "text": [
      "((1, 1000000000, 'test'), (2, 1000000000, 'go'), (3, 1000000000, 'go'), (4, 1000000000, 'go'), (5, 1000000000, 'go'), (6, 1000000000, 'go'), (7, 1000000000, 'go'), (8, 1000000000, 'go'), (9, 1000000000, 'go'), (10, 1000000000, 'go'), (11, 1000000000, 'go'), (12, 1000000000, 'go'), (13, 1000000000, 'go'), (14, 1000000000, 'go'), (15, 1000000000, 'go'), (16, 1000000000, 'go'), (17, 1000000000, 'go'), (18, 1000000000, 'go'), (19, 1000000000, 'go'), (20, 1000000000, '결제테스트'), (21, 1000000000, '결제테스트'), (22, 1000000000, 'kkk'), (23, 1000000000, 'kkk'), (24, 1000000000, 'kkk'), (25, 1000000000, 'kkk'), (26, 1000000000, 'kkk'), (27, 1000000000, 'kkk'), (28, 1000000000, 'kkk'), (29, 1000000000, 'kkk'), (30, 1000000000, 'kkk'), (31, 1000000000, 'kkk'), (32, 1000000000, 'kkk'), (33, 1000000000, 'kkk'), (34, 1000000000, 'kkk'), (35, 1000000000, '전부구한다'), (36, 1000000000, '다구했어'), (37, 1000000000, '여긴내가접수한다'), (38, 1000000000, '이구역은내가접수했어'), (39, 1000000000, '이구역은내가접수했어'))\n"
     ]
    }
   ],
   "source": [
    "cursor = db.cursor()\n",
    "\n",
    "sql = \"\"\"\n",
    "    select * from hybrid_order;\n",
    "\"\"\"\n",
    "\n",
    "cursor.execute(sql)\n",
    "rows = cursor.fetchall()\n",
    "\n",
    "print(rows)"
   ]
  },
  {
   "cell_type": "code",
   "execution_count": 19,
   "id": "83387a42",
   "metadata": {},
   "outputs": [],
   "source": [
    "def db2csv():\n",
    "    with open('mysql2csv.csv', 'a') as f:\n",
    "        f.writelines(text[:-1] + '\\n')"
   ]
  },
  {
   "cell_type": "code",
   "execution_count": 20,
   "id": "e037f83c",
   "metadata": {},
   "outputs": [],
   "source": [
    "for x in rows:\n",
    "    text = ''\n",
    "    for y in x:\n",
    "        y = str(y)\n",
    "        text = text + y + ', '\n",
    "        \n",
    "    db2csv()\n",
    "    \n",
    "cursor.close()\n",
    "db.close()"
   ]
  },
  {
   "cell_type": "code",
   "execution_count": 21,
   "id": "24f8059d",
   "metadata": {},
   "outputs": [
    {
     "name": "stdout",
     "output_type": "stream",
     "text": [
      " C 드라이브의 볼륨: 오후반_OS\n",
      " 볼륨 일련 번호: E808-E5FC\n",
      "\n",
      " C:\\Users\\user2\\python_works\\PythonWorkshop-1 디렉터리\n",
      "\n",
      "2021-10-19  오후 04:34    <DIR>          .\n",
      "2021-10-19  오후 04:34    <DIR>          ..\n",
      "2021-09-17  오후 05:46             1,928 .gitignore\n",
      "2021-10-19  오후 04:05    <DIR>          .ipynb_checkpoints\n",
      "2021-09-23  오후 05:43            14,823 Array.ipynb\n",
      "2021-09-28  오후 07:33            50,831 Class.ipynb\n",
      "2021-09-24  오후 07:01                37 colors\n",
      "2021-09-23  오후 08:06             8,476 ControlStatement.ipynb\n",
      "2021-09-23  오후 04:18             4,087 DataType.ipynb\n",
      "2021-10-19  오후 03:48               337 Data_example.csv\n",
      "2021-10-07  오후 04:21             7,989 email_process.ipynb\n",
      "2021-09-27  오후 09:16             1,621 exception_test.ipynb\n",
      "2021-09-24  오후 07:19            29,669 FileIO.ipynb\n",
      "2021-09-24  오후 05:53            15,511 Function(Method).ipynb\n",
      "2021-10-07  오후 07:21            15,046 kakao_email_order_test.ipynb\n",
      "2021-10-01  오후 08:43             9,880 kakao_friends_msg_api.ipynb\n",
      "2021-10-01  오후 06:00            15,980 kakao_msg_api.ipynb\n",
      "2021-10-12  오후 05:09    <DIR>          linux_results\n",
      "2021-10-19  오후 03:55               319 modify.csv\n",
      "2021-10-12  오후 05:11            11,383 multi_task_control.ipynb\n",
      "2021-10-19  오후 04:34               905 mysql2csv.csv\n",
      "2021-10-11  오후 09:47             2,382 ode.ipynb\n",
      "2021-10-11  오후 09:08            84,057 ode.txt\n",
      "2021-09-28  오후 07:53             2,382 operator_overload.ipynb\n",
      "2021-10-05  오후 09:49           402,051 order_test.ipynb\n",
      "2021-10-19  오후 04:33            10,048 pandas_test.ipynb\n",
      "2021-10-06  오후 04:58            22,179 pptx_control.ipynb\n",
      "2021-10-08  오후 07:10            45,132 python_crawl_server.ipynb\n",
      "2021-10-11  오후 06:10           285,236 python_mysql.ipynb\n",
      "2021-10-05  오후 05:11             5,468 python_response.ipynb\n",
      "2021-09-17  오후 07:52            19,755 python_taste.ipynb\n",
      "2021-09-17  오후 05:46                51 README.md\n",
      "2021-09-17  오후 07:05            27,952 request_success.jpg\n",
      "2021-10-11  오후 03:44    <DIR>          res\n",
      "2021-10-08  오후 05:08            14,938 selenium_crawling.ipynb\n",
      "2021-09-24  오후 07:14                47 test\n",
      "2021-10-06  오후 04:05            28,310 test.pptx\n",
      "2021-09-24  오후 06:10                83 test.txt\n",
      "2021-10-12  오후 07:45               576 Untitled.ipynb\n",
      "2021-10-06  오후 04:15            29,290 글자쓰기.pptx\n",
      "2021-10-06  오후 03:59            36,383 모든슬라이드추가.pptx\n",
      "2021-10-06  오후 04:56            29,409 이거시표다.pptx\n",
      "2021-10-06  오후 04:43            55,960 이미지.pptx\n",
      "              38개 파일           1,290,511 바이트\n",
      "               5개 디렉터리  147,052,171,264 바이트 남음\n"
     ]
    }
   ],
   "source": [
    "!dir"
   ]
  },
  {
   "cell_type": "code",
   "execution_count": 11,
   "id": "6a307a26",
   "metadata": {},
   "outputs": [],
   "source": [
    "db = pymysql.connect(\n",
    "    # localhost와 같은 아이피 주소임\n",
    "    host = '127.0.0.1',\n",
    "    # MySQL의 포트 번호\n",
    "    port = 3306,\n",
    "    # 아뒤\n",
    "    user = mysql_user_info['user_id'],\n",
    "    # 비번\n",
    "    passwd = mysql_user_info['password'],\n",
    "    # 사용하려는 스키마\n",
    "    db = 'jpa_db',\n",
    "    # 캐릭터 셋 설정\n",
    "    charset = 'utf8'\n",
    ")"
   ]
  },
  {
   "cell_type": "code",
   "execution_count": 14,
   "id": "8312f010",
   "metadata": {},
   "outputs": [],
   "source": [
    "sql = \"\"\"\n",
    "    select * from hybrid_order;\n",
    "\"\"\"\n",
    "\n",
    "df = pd.read_sql_query(sql, db)\n",
    "df.to_csv(r\"pandas2csv.csv\", index = False, encoding='utf-8-sig')"
   ]
  },
  {
   "cell_type": "code",
   "execution_count": 15,
   "id": "39b93d46",
   "metadata": {},
   "outputs": [],
   "source": [
    "db.close()"
   ]
  },
  {
   "cell_type": "code",
   "execution_count": 10,
   "id": "1d8f4578",
   "metadata": {
    "scrolled": true
   },
   "outputs": [
    {
     "name": "stdout",
     "output_type": "stream",
     "text": [
      " C 드라이브의 볼륨: 오후반_OS\n",
      " 볼륨 일련 번호: E808-E5FC\n",
      "\n",
      " C:\\Users\\user2\\python_works\\PythonWorkshop-1 디렉터리\n",
      "\n",
      "2021-10-19  오후 04:49    <DIR>          .\n",
      "2021-10-19  오후 04:49    <DIR>          ..\n",
      "2021-09-17  오후 05:46             1,928 .gitignore\n",
      "2021-10-19  오후 04:05    <DIR>          .ipynb_checkpoints\n",
      "2021-09-23  오후 05:43            14,823 Array.ipynb\n",
      "2021-09-28  오후 07:33            50,831 Class.ipynb\n",
      "2021-09-24  오후 07:01                37 colors\n",
      "2021-09-23  오후 08:06             8,476 ControlStatement.ipynb\n",
      "2021-09-23  오후 04:18             4,087 DataType.ipynb\n",
      "2021-10-19  오후 03:48               337 Data_example.csv\n",
      "2021-10-07  오후 04:21             7,989 email_process.ipynb\n",
      "2021-09-27  오후 09:16             1,621 exception_test.ipynb\n",
      "2021-09-24  오후 07:19            29,669 FileIO.ipynb\n",
      "2021-09-24  오후 05:53            15,511 Function(Method).ipynb\n",
      "2021-10-07  오후 07:21            15,046 kakao_email_order_test.ipynb\n",
      "2021-10-01  오후 08:43             9,880 kakao_friends_msg_api.ipynb\n",
      "2021-10-01  오후 06:00            15,980 kakao_msg_api.ipynb\n",
      "2021-10-12  오후 05:09    <DIR>          linux_results\n",
      "2021-10-19  오후 03:55               319 modify.csv\n",
      "2021-10-12  오후 05:11            11,383 multi_task_control.ipynb\n",
      "2021-10-19  오후 04:34               905 mysql2csv.csv\n",
      "2021-10-11  오후 09:47             2,382 ode.ipynb\n",
      "2021-10-11  오후 09:08            84,057 ode.txt\n",
      "2021-09-28  오후 07:53             2,382 operator_overload.ipynb\n",
      "2021-10-05  오후 09:49           402,051 order_test.ipynb\n",
      "2021-10-19  오후 04:49               849 pandas2csv.csv\n",
      "2021-10-19  오후 04:49            19,845 pandas_test.ipynb\n",
      "2021-10-06  오후 04:58            22,179 pptx_control.ipynb\n",
      "2021-10-08  오후 07:10            45,132 python_crawl_server.ipynb\n",
      "2021-10-11  오후 06:10           285,236 python_mysql.ipynb\n",
      "2021-10-05  오후 05:11             5,468 python_response.ipynb\n",
      "2021-09-17  오후 07:52            19,755 python_taste.ipynb\n",
      "2021-09-17  오후 05:46                51 README.md\n",
      "2021-09-17  오후 07:05            27,952 request_success.jpg\n",
      "2021-10-11  오후 03:44    <DIR>          res\n",
      "2021-10-08  오후 05:08            14,938 selenium_crawling.ipynb\n",
      "2021-09-24  오후 07:14                47 test\n",
      "2021-10-06  오후 04:05            28,310 test.pptx\n",
      "2021-09-24  오후 06:10                83 test.txt\n",
      "2021-10-12  오후 07:45               576 Untitled.ipynb\n",
      "2021-10-06  오후 04:15            29,290 글자쓰기.pptx\n",
      "2021-10-06  오후 03:59            36,383 모든슬라이드추가.pptx\n",
      "2021-10-06  오후 04:56            29,409 이거시표다.pptx\n",
      "2021-10-06  오후 04:43            55,960 이미지.pptx\n",
      "              39개 파일           1,301,157 바이트\n",
      "               5개 디렉터리  146,982,080,512 바이트 남음\n"
     ]
    }
   ],
   "source": [
    "!dir"
   ]
  },
  {
   "cell_type": "code",
   "execution_count": 24,
   "id": "3e2d2c19",
   "metadata": {},
   "outputs": [],
   "source": [
    "import csv"
   ]
  },
  {
   "cell_type": "code",
   "execution_count": 49,
   "id": "59b141d3",
   "metadata": {},
   "outputs": [],
   "source": [
    "db = pymysql.connect(\n",
    "    # localhost와 같은 아이피 주소임\n",
    "    host = '127.0.0.1',\n",
    "    # MySQL의 포트 번호\n",
    "    port = 3306,\n",
    "    # 아뒤\n",
    "    user = mysql_user_info['user_id'],\n",
    "    # 비번\n",
    "    passwd = mysql_user_info['password'],\n",
    "    # 사용하려는 스키마\n",
    "    db = 'non_jpa_db',\n",
    "    # 캐릭터 셋 설정\n",
    "    charset = 'utf8'\n",
    ")\n",
    "\n",
    "cursor = db.cursor()\n",
    "\n",
    "#f = open('member.csv', 'r')\n",
    "#csv_reader = csv.reader(f)\n",
    "\n",
    "#print(csv_reader)"
   ]
  },
  {
   "cell_type": "code",
   "execution_count": 50,
   "id": "cd96b897",
   "metadata": {},
   "outputs": [
    {
     "name": "stdout",
     "output_type": "stream",
     "text": [
      "<_csv.reader object at 0x0000026FDACC2B20>\n"
     ]
    }
   ],
   "source": [
    "#from pandas import *\n",
    "\n",
    "#data = read_csv(\"member.csv\")\n",
    "\n",
    "#print(data['id'].tolist())\n",
    "\n",
    "f = open('member.csv', 'r')\n",
    "csv_reader = csv.reader(f, delimiter='\\t')\n",
    "\n",
    "print(csv_reader)"
   ]
  },
  {
   "cell_type": "code",
   "execution_count": 51,
   "id": "860cd68f",
   "metadata": {},
   "outputs": [
    {
     "name": "stdout",
     "output_type": "stream",
     "text": [
      "['test', '1234']\n",
      "test\n",
      "1234\n",
      "['abc', '1234']\n",
      "abc\n",
      "1234\n",
      "['def', '1234']\n",
      "def\n",
      "1234\n",
      "['ghi', '1234']\n",
      "ghi\n",
      "1234\n",
      "['jkl', '1234']\n",
      "jkl\n",
      "1234\n",
      "['mno', '1234']\n",
      "mno\n",
      "1234\n",
      "['pqr', '1234']\n",
      "pqr\n",
      "1234\n",
      "['stu', '1234']\n",
      "stu\n",
      "1234\n",
      "['wxy', '1234']\n",
      "wxy\n",
      "1234\n",
      "['zzz', '1234']\n",
      "zzz\n",
      "1234\n"
     ]
    }
   ],
   "source": [
    "cnt = 0\n",
    "\n",
    "for row in csv_reader:\n",
    "    if cnt == 0:\n",
    "        cnt += 1\n",
    "        continue\n",
    "        \n",
    "    print(row)\n",
    "    id = (row[0])\n",
    "    pw = (row[1])\n",
    "    \n",
    "    print(id)\n",
    "    print(pw)\n",
    "    \n",
    "    sql = \"\"\"\n",
    "        insert into member (id, pw) values (%s, %s)\n",
    "    \"\"\"\n",
    "    \n",
    "    cursor.execute(sql, (id, pw))\n",
    "    \n",
    "db.commit()\n",
    "\n",
    "f.close()\n",
    "db.close()"
   ]
  },
  {
   "cell_type": "code",
   "execution_count": null,
   "id": "0761c649",
   "metadata": {},
   "outputs": [],
   "source": []
  }
 ],
 "metadata": {
  "kernelspec": {
   "display_name": "Python 3",
   "language": "python",
   "name": "python3"
  },
  "language_info": {
   "codemirror_mode": {
    "name": "ipython",
    "version": 3
   },
   "file_extension": ".py",
   "mimetype": "text/x-python",
   "name": "python",
   "nbconvert_exporter": "python",
   "pygments_lexer": "ipython3",
   "version": "3.8.8"
  }
 },
 "nbformat": 4,
 "nbformat_minor": 5
}
